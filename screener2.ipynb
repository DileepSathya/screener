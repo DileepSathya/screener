{
 "cells": [
  {
   "cell_type": "code",
   "execution_count": null,
   "id": "8e5d2ce8",
   "metadata": {},
   "outputs": [],
   "source": [
    "import pandas as pd\n",
    "import datetime as dt\n",
    "\n",
    "# Load JSON data\n",
    "df = pd.read_json(\"C:/Users/Dileep Sathya/Desktop/screener/artifacts/hist_data.json\")\n",
    "\n",
    "# Ensure 'date' is datetime\n",
    "df['date'] = pd.to_datetime(df['date'])\n",
    "\n",
    "# Add year column\n",
    "df['year'] = df['date'].dt.year\n",
    "\n",
    "# Create previous day features\n",
    "df['prev_day_open'] = df.groupby('symbol')['open'].shift(1)\n",
    "df['prev_day_high'] = df.groupby('symbol')['high'].shift(1)\n",
    "df['prev_day_low'] = df.groupby('symbol')['low'].shift(1)\n",
    "df['prev_day_close'] = df.groupby('symbol')['close'].shift(1)\n",
    "\n",
    "df = df.dropna()\n",
    "\n",
    "# Calculate previous day features\n",
    "df['prev_day_range'] = abs((df['prev_day_high'] - df['prev_day_low']) / df['prev_day_low']) * 100\n",
    "df['prev_day_body_range'] = abs((df['prev_day_close'] - df['prev_day_open']) / df['prev_day_open']) * 100\n",
    "\n",
    "df = df.dropna()\n",
    "\n",
    "# Filter for specific symbol\n",
    "\n",
    "\n",
    "\n",
    "# Apply eligibility condition\n",
    "df['eligibility'] = (df['prev_day_range'] < 1.75) & (df['prev_day_body_range'] < 0.5)\n",
    "\n",
    "# Current day ranges\n",
    "df['range'] = abs((df['high'] - df['low']) / df['low']) * 100\n",
    "df['body_range'] = abs((df['close'] - df['open']) / df['open']) * 100\n",
    "\n",
    "# Drop unused columns\n",
    "df = df.drop(columns=[\n",
    "    'open', 'high', 'low', 'close', 'volume', 'year',\n",
    "    'prev_day_high', 'prev_day_low', 'prev_day_close', 'prev_day_open'\n",
    "])\n",
    "\n",
    "# Filter for past 366 days only\n",
    "today = pd.to_datetime(\"2025-06-16\")\n",
    "start_date = today - pd.Timedelta(days=183)\n",
    "df = df[(df['date'] >= start_date) & (df['date'] <= today)]\n",
    "df = df.sort_values('date')\n",
    "\n",
    "# Final filtered DataFrame based on eligibility\n",
    "fil_df = df[df['eligibility'] == True]\n"
   ]
  },
  {
   "cell_type": "code",
   "execution_count": 2,
   "id": "51495e01",
   "metadata": {},
   "outputs": [
    {
     "data": {
      "text/html": [
       "<div>\n",
       "<style scoped>\n",
       "    .dataframe tbody tr th:only-of-type {\n",
       "        vertical-align: middle;\n",
       "    }\n",
       "\n",
       "    .dataframe tbody tr th {\n",
       "        vertical-align: top;\n",
       "    }\n",
       "\n",
       "    .dataframe thead th {\n",
       "        text-align: right;\n",
       "    }\n",
       "</style>\n",
       "<table border=\"1\" class=\"dataframe\">\n",
       "  <thead>\n",
       "    <tr style=\"text-align: right;\">\n",
       "      <th></th>\n",
       "      <th>date</th>\n",
       "      <th>symbol</th>\n",
       "      <th>prev_day_range</th>\n",
       "      <th>prev_day_body_range</th>\n",
       "      <th>eligibility</th>\n",
       "      <th>range</th>\n",
       "      <th>body_range</th>\n",
       "    </tr>\n",
       "  </thead>\n",
       "  <tbody>\n",
       "  </tbody>\n",
       "</table>\n",
       "</div>"
      ],
      "text/plain": [
       "Empty DataFrame\n",
       "Columns: [date, symbol, prev_day_range, prev_day_body_range, eligibility, range, body_range]\n",
       "Index: []"
      ]
     },
     "execution_count": 2,
     "metadata": {},
     "output_type": "execute_result"
    }
   ],
   "source": [
    "fil_df"
   ]
  },
  {
   "cell_type": "code",
   "execution_count": 13,
   "id": "86c37a84",
   "metadata": {},
   "outputs": [
    {
     "data": {
      "text/plain": [
       "count    123.000000\n",
       "mean       1.393091\n",
       "std        1.099625\n",
       "min        0.019011\n",
       "25%        0.671495\n",
       "50%        1.121272\n",
       "75%        1.869067\n",
       "max        6.048387\n",
       "Name: prev_day_body_range, dtype: float64"
      ]
     },
     "execution_count": 13,
     "metadata": {},
     "output_type": "execute_result"
    }
   ],
   "source": [
    "df['prev_day_body_range'].describe()"
   ]
  },
  {
   "cell_type": "code",
   "execution_count": 3,
   "id": "048c47f4",
   "metadata": {},
   "outputs": [
    {
     "data": {
      "text/plain": [
       "count    0.0\n",
       "mean     NaN\n",
       "std      NaN\n",
       "min      NaN\n",
       "25%      NaN\n",
       "50%      NaN\n",
       "75%      NaN\n",
       "max      NaN\n",
       "Name: prev_day_range, dtype: float64"
      ]
     },
     "execution_count": 3,
     "metadata": {},
     "output_type": "execute_result"
    }
   ],
   "source": [
    "df['prev_day_range'].describe()"
   ]
  },
  {
   "cell_type": "code",
   "execution_count": 7,
   "id": "6ad645a8",
   "metadata": {},
   "outputs": [
    {
     "data": {
      "text/html": [
       "<div>\n",
       "<style scoped>\n",
       "    .dataframe tbody tr th:only-of-type {\n",
       "        vertical-align: middle;\n",
       "    }\n",
       "\n",
       "    .dataframe tbody tr th {\n",
       "        vertical-align: top;\n",
       "    }\n",
       "\n",
       "    .dataframe thead th {\n",
       "        text-align: right;\n",
       "    }\n",
       "</style>\n",
       "<table border=\"1\" class=\"dataframe\">\n",
       "  <thead>\n",
       "    <tr style=\"text-align: right;\">\n",
       "      <th></th>\n",
       "      <th>date</th>\n",
       "      <th>open</th>\n",
       "      <th>high</th>\n",
       "      <th>low</th>\n",
       "      <th>close</th>\n",
       "      <th>volume</th>\n",
       "      <th>symbol</th>\n",
       "      <th>range</th>\n",
       "      <th>body_range</th>\n",
       "      <th>eligibility</th>\n",
       "    </tr>\n",
       "  </thead>\n",
       "  <tbody>\n",
       "    <tr>\n",
       "      <th>5</th>\n",
       "      <td>2025-06-16</td>\n",
       "      <td>287.95</td>\n",
       "      <td>290.5</td>\n",
       "      <td>286.30</td>\n",
       "      <td>288.65</td>\n",
       "      <td>11067299</td>\n",
       "      <td>POWERGRID</td>\n",
       "      <td>1.466993</td>\n",
       "      <td>0.243098</td>\n",
       "      <td>True</td>\n",
       "    </tr>\n",
       "    <tr>\n",
       "      <th>18</th>\n",
       "      <td>2025-06-16</td>\n",
       "      <td>792.50</td>\n",
       "      <td>795.4</td>\n",
       "      <td>786.15</td>\n",
       "      <td>792.50</td>\n",
       "      <td>8085001</td>\n",
       "      <td>SBIN</td>\n",
       "      <td>1.176620</td>\n",
       "      <td>0.000000</td>\n",
       "      <td>True</td>\n",
       "    </tr>\n",
       "  </tbody>\n",
       "</table>\n",
       "</div>"
      ],
      "text/plain": [
       "         date    open   high     low   close    volume     symbol     range  \\\n",
       "5  2025-06-16  287.95  290.5  286.30  288.65  11067299  POWERGRID  1.466993   \n",
       "18 2025-06-16  792.50  795.4  786.15  792.50   8085001       SBIN  1.176620   \n",
       "\n",
       "    body_range  eligibility  \n",
       "5     0.243098         True  \n",
       "18    0.000000         True  "
      ]
     },
     "execution_count": 7,
     "metadata": {},
     "output_type": "execute_result"
    }
   ],
   "source": [
    "df = pd.read_json(\"C:/Users/Dileep Sathya/Desktop/screener/artifacts/hist_data.json\")\n",
    "\n",
    "# Ensure 'date' is datetime\n",
    "df['date'] = pd.to_datetime(df['date'])\n",
    "df['range'] = abs((df['high'] - df['low']) / df['low']) * 100\n",
    "df['body_range'] = abs((df['close'] - df['open']) / df['open']) * 100\n",
    "df['eligibility'] = (df['range'] < 1.75) & (df['body_range'] < 0.5)\n",
    "\n",
    "df[df['eligibility'] == True]"
   ]
  }
 ],
 "metadata": {
  "kernelspec": {
   "display_name": "base",
   "language": "python",
   "name": "python3"
  },
  "language_info": {
   "codemirror_mode": {
    "name": "ipython",
    "version": 3
   },
   "file_extension": ".py",
   "mimetype": "text/x-python",
   "name": "python",
   "nbconvert_exporter": "python",
   "pygments_lexer": "ipython3",
   "version": "3.12.7"
  }
 },
 "nbformat": 4,
 "nbformat_minor": 5
}
